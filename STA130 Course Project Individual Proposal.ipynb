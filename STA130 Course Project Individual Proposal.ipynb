{
 "cells": [
  {
   "cell_type": "markdown",
   "id": "fb9b80d3",
   "metadata": {},
   "source": [
    "Sen Qiao\n",
    "Research Question 1(Using Hypothesis Test, from Lecture 5)\n",
    "Statement\n",
    "Is there a significant difference in loneliness scores between individuals who follow physical distancing guidelines very closely and those who do not during the COVID-19 pandemic?\n",
    "Variables\n",
    "COVID_prevention_distancing: Self-reported adherence to physical distancing guidelines.\n",
    "Responses: very closely, somewhat closely, not at all, Nah (missing values)\n",
    "LONELY_ucla_loneliness_scale_score: Loneliness scores ranging from 3 to 9, with higher scores indicating greater loneliness.\n",
    "Data visualization:\n",
    "The data can be visualized using a bar chart which demonstrates the frequency of loneliness scores(ranging from 3 to 9), where the x-axis represents the levels of adherence to physical distancing guidelines(COVID_prevention_distancing) and the y-axis represents the mean loneliness scores from the LONELY_ucla_loneliness_scale_score. This visualization helps us quickly identify trends or differences in loneliness levels based on adherence to distancing guidelines.\n",
    "Analysis\n",
    "Hypothesis Test:\n",
    "H0: There is no significant difference in mean loneliness scores among the groups (μvery closely = μsomewhat closely = μnot at all)\n",
    "Ha: At least one group’s mean loneliness score is significantly different\n",
    "For the hypothesis testing, we assume that the data points for loneliness scores and follow physical distance guidelines are independent of each other. This means that one person's compliance will not affect another person's data. Then, we test whether there is a statistically significant relationship between two variables. The null hypothesis suggests that there is no relationship between these variables, while the alternative hypothesis suggests that adherence to distance guidelines is associated with varying degrees of loneliness. \n",
    "We set the alpha to 0.05, which means that we are willing to accept a 5% probability of rejecting the null hypothesis if it is  true. Then, we calculate average loneliness scores for different levels of physical distance compliance and perform hypothesis tests to compare the groups and determine whether the observed differences are significant. If the P-value is less than 0.05, we will reject the null hypothesis and conclude that there is a significant difference in loneliness scores between individuals who follow physical distancing guidelines.\n",
    "Expected Result\n",
    "From this analysis, I expected to find that people who follow social distancing guidelines are lonelier than those who follow only a little. It highlights the psychological impact of strict social distancing during the COVID-19 pandemic.\n",
    "\n",
    "Research Question 2(Using Confidence interval, From Lecture 3)\n",
    "Statement\n",
    "What is the confidence interval for the average number of days participants socialize with family members in a week?\n",
    "Variable\n",
    "CONNECTION_social_days_family_p7d_grouped (Number of days socialized with family members in the past week)\n",
    "Responses: None (0 days), Some days (1-3 days), Most days ( 4-6 days), Every day (7 days)\n",
    "We will use a box plot to visualize the distribution of the CONNECTION_social_days_family_p7d_grouped variable. The box plot will display the median, quartiles, and any outliers, offering a clear view of the spread and central tendency of participants' social days with family over the past week and allowing us to see any patterns or skewness in the data.\n",
    "Analysis\n",
    "To perform a simulation loop for constructing the confidence interval, we assume that each observation of the number of days participants socialized with family is independent of the others, which ensures that the behavior or social patterns of one participant do not influence another's data, making our confidence interval estimation more accurate. We first define parameters, including the number of simulations(1000 repetitions) and the sample size from our dataset. Then, we repeatedly draw random samples with replacement from the data, calculate the mean and standard error for each sample, and construct a 95% confidence interval using the formula: Mean ± 1.96 × SE. After running the loop 1,000 times, we analyze the range and distribution of the confidence intervals to determine if they cover the expected population mean. This approach provides a range within which the true population mean is likely to fall with 95% confidence.\n",
    "Expected Result\n",
    "I believe the confidence interval to show that people socialize with their family frequently. By using a 95% confidence interval, we can be 95% sure that the true average number of days participants spend with family falls within this range, which could help us understand social patterns better.\n",
    "\n",
    "Research Question 3(Using Linear Regression, From Lecture 7)\n",
    "Statement\n",
    "How does the different support people feel they have affect how they rate their own mental health?\n",
    "Variables\n",
    "Independent Variables:\n",
    "CONNECTION_social_time_family_p7d_grouped (Hours spent socializing with family)\n",
    "CONNECTION_social_time_friends_p7d_grouped (Hours spent socializing with friends)\n",
    "WELLNESS_self_rated_mental_health (Participants' self-rated mental health status) LONELY_ucla_loneliness_scale_score (UCLA loneliness scale score, feelings of loneliness)\n",
    "Dependent Variable:\n",
    "WELLNESS_subjective_happiness_scale_score (happiness score of participants)\n",
    "To visualize the results, we’ll use a scatter plot to show the relationship between factors and happiness scores to demonstrate how well the predictions align with observed data.\n",
    "Analysis\n",
    "The regression model assumptions include linearity between independent and dependent variables, independence of data points, normally distributed error terms, and constant variance of errors. We analyze the relationship between social people and happiness scores by collecting data, calculating statistics (mean, range, standard deviation), and estimating the intercept and slope. Then we calculate the p-value for b1 and the r square value, interpreting the model using the linear regression equation: y=b0+b1x+b2x+b3x+b4x+c\n",
    "Expected Result\n",
    "Based on the regression model, I expect higher social support and more time spent with family and friends to have a more positive effect on well-being, while higher loneliness scores may have a negative effect on well-being.\n",
    "\n",
    "Finally, I would like to do the group project with Steven and Ricky who are always my partners during the tutorial so we really know each other and we can assign problems well and solve them together, leading to a better performance on this project.\n"
   ]
  }
 ],
 "metadata": {
  "kernelspec": {
   "display_name": "Python 3 (ipykernel)",
   "language": "python",
   "name": "python3"
  },
  "language_info": {
   "codemirror_mode": {
    "name": "ipython",
    "version": 3
   },
   "file_extension": ".py",
   "mimetype": "text/x-python",
   "name": "python",
   "nbconvert_exporter": "python",
   "pygments_lexer": "ipython3",
   "version": "3.11.6"
  }
 },
 "nbformat": 4,
 "nbformat_minor": 5
}
